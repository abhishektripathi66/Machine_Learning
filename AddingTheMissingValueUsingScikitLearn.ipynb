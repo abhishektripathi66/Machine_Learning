{
 "cells": [
  {
   "cell_type": "code",
   "execution_count": 34,
   "id": "6d2e3574",
   "metadata": {},
   "outputs": [],
   "source": [
    "import pandas as pd\n",
    "import seaborn as sns\n",
    "import matplotlib.pyplot as plt"
   ]
  },
  {
   "cell_type": "code",
   "execution_count": 35,
   "id": "a2921791",
   "metadata": {},
   "outputs": [
    {
     "data": {
      "text/html": [
       "<div>\n",
       "<style scoped>\n",
       "    .dataframe tbody tr th:only-of-type {\n",
       "        vertical-align: middle;\n",
       "    }\n",
       "\n",
       "    .dataframe tbody tr th {\n",
       "        vertical-align: top;\n",
       "    }\n",
       "\n",
       "    .dataframe thead th {\n",
       "        text-align: right;\n",
       "    }\n",
       "</style>\n",
       "<table border=\"1\" class=\"dataframe\">\n",
       "  <thead>\n",
       "    <tr style=\"text-align: right;\">\n",
       "      <th></th>\n",
       "      <th>index</th>\n",
       "      <th>airline</th>\n",
       "      <th>flight</th>\n",
       "      <th>source_city</th>\n",
       "      <th>departure_time</th>\n",
       "      <th>stops</th>\n",
       "      <th>arrival_time</th>\n",
       "      <th>destination_city</th>\n",
       "      <th>class</th>\n",
       "      <th>duration</th>\n",
       "      <th>days_left</th>\n",
       "      <th>price</th>\n",
       "    </tr>\n",
       "  </thead>\n",
       "  <tbody>\n",
       "    <tr>\n",
       "      <th>0</th>\n",
       "      <td>0</td>\n",
       "      <td>SpiceJet</td>\n",
       "      <td>SG-8709</td>\n",
       "      <td>Delhi</td>\n",
       "      <td>Evening</td>\n",
       "      <td>zero</td>\n",
       "      <td>Night</td>\n",
       "      <td>Mumbai</td>\n",
       "      <td>Economy</td>\n",
       "      <td>2.17</td>\n",
       "      <td>1.0</td>\n",
       "      <td>5953.0</td>\n",
       "    </tr>\n",
       "    <tr>\n",
       "      <th>1</th>\n",
       "      <td>1</td>\n",
       "      <td>SpiceJet</td>\n",
       "      <td>SG-8157</td>\n",
       "      <td>Delhi</td>\n",
       "      <td>Early_Morning</td>\n",
       "      <td>zero</td>\n",
       "      <td>Morning</td>\n",
       "      <td>Mumbai</td>\n",
       "      <td>Economy</td>\n",
       "      <td>2.33</td>\n",
       "      <td>1.0</td>\n",
       "      <td>5953.0</td>\n",
       "    </tr>\n",
       "    <tr>\n",
       "      <th>2</th>\n",
       "      <td>2</td>\n",
       "      <td>AirAsia</td>\n",
       "      <td>I5-764</td>\n",
       "      <td>Delhi</td>\n",
       "      <td>Early_Morning</td>\n",
       "      <td>zero</td>\n",
       "      <td>Early_Morning</td>\n",
       "      <td>Mumbai</td>\n",
       "      <td>Economy</td>\n",
       "      <td>2.17</td>\n",
       "      <td>1.0</td>\n",
       "      <td>5956.0</td>\n",
       "    </tr>\n",
       "    <tr>\n",
       "      <th>3</th>\n",
       "      <td>3</td>\n",
       "      <td>Vistara</td>\n",
       "      <td>UK-995</td>\n",
       "      <td>Delhi</td>\n",
       "      <td>Morning</td>\n",
       "      <td>zero</td>\n",
       "      <td>Afternoon</td>\n",
       "      <td>Mumbai</td>\n",
       "      <td>Economy</td>\n",
       "      <td>2.25</td>\n",
       "      <td>1.0</td>\n",
       "      <td>5955.0</td>\n",
       "    </tr>\n",
       "    <tr>\n",
       "      <th>4</th>\n",
       "      <td>4</td>\n",
       "      <td>Vistara</td>\n",
       "      <td>UK-963</td>\n",
       "      <td>Delhi</td>\n",
       "      <td>Morning</td>\n",
       "      <td>zero</td>\n",
       "      <td>Morning</td>\n",
       "      <td>Mumbai</td>\n",
       "      <td>Economy</td>\n",
       "      <td>2.33</td>\n",
       "      <td>1.0</td>\n",
       "      <td>5955.0</td>\n",
       "    </tr>\n",
       "    <tr>\n",
       "      <th>...</th>\n",
       "      <td>...</td>\n",
       "      <td>...</td>\n",
       "      <td>...</td>\n",
       "      <td>...</td>\n",
       "      <td>...</td>\n",
       "      <td>...</td>\n",
       "      <td>...</td>\n",
       "      <td>...</td>\n",
       "      <td>...</td>\n",
       "      <td>...</td>\n",
       "      <td>...</td>\n",
       "      <td>...</td>\n",
       "    </tr>\n",
       "    <tr>\n",
       "      <th>1589</th>\n",
       "      <td>300148</td>\n",
       "      <td>Vistara</td>\n",
       "      <td>UK-822</td>\n",
       "      <td>Chennai</td>\n",
       "      <td>NaN</td>\n",
       "      <td>one</td>\n",
       "      <td>Evening</td>\n",
       "      <td>Hyderabad</td>\n",
       "      <td>Business</td>\n",
       "      <td>NaN</td>\n",
       "      <td>NaN</td>\n",
       "      <td>69265.0</td>\n",
       "    </tr>\n",
       "    <tr>\n",
       "      <th>1590</th>\n",
       "      <td>300149</td>\n",
       "      <td>Vistara</td>\n",
       "      <td>UK-826</td>\n",
       "      <td>NaN</td>\n",
       "      <td>Afternoon</td>\n",
       "      <td>one</td>\n",
       "      <td>Night</td>\n",
       "      <td>Hyderabad</td>\n",
       "      <td>Business</td>\n",
       "      <td>NaN</td>\n",
       "      <td>NaN</td>\n",
       "      <td>NaN</td>\n",
       "    </tr>\n",
       "    <tr>\n",
       "      <th>1591</th>\n",
       "      <td>300150</td>\n",
       "      <td>Vistara</td>\n",
       "      <td>UK-832</td>\n",
       "      <td>Chennai</td>\n",
       "      <td>Early_Morning</td>\n",
       "      <td>one</td>\n",
       "      <td>Night</td>\n",
       "      <td>Hyderabad</td>\n",
       "      <td>Business</td>\n",
       "      <td>NaN</td>\n",
       "      <td>NaN</td>\n",
       "      <td>79099.0</td>\n",
       "    </tr>\n",
       "    <tr>\n",
       "      <th>1592</th>\n",
       "      <td>300151</td>\n",
       "      <td>Vistara</td>\n",
       "      <td>UK-828</td>\n",
       "      <td>Chennai</td>\n",
       "      <td>Early_Morning</td>\n",
       "      <td>one</td>\n",
       "      <td>Evening</td>\n",
       "      <td>Hyderabad</td>\n",
       "      <td>Business</td>\n",
       "      <td>NaN</td>\n",
       "      <td>NaN</td>\n",
       "      <td>81585.0</td>\n",
       "    </tr>\n",
       "    <tr>\n",
       "      <th>1593</th>\n",
       "      <td>300152</td>\n",
       "      <td>Vistara</td>\n",
       "      <td>UK-822</td>\n",
       "      <td>Chennai</td>\n",
       "      <td>Morning</td>\n",
       "      <td>one</td>\n",
       "      <td>Evening</td>\n",
       "      <td>Hyderabad</td>\n",
       "      <td>Business</td>\n",
       "      <td>NaN</td>\n",
       "      <td>49.0</td>\n",
       "      <td>NaN</td>\n",
       "    </tr>\n",
       "  </tbody>\n",
       "</table>\n",
       "<p>1594 rows × 12 columns</p>\n",
       "</div>"
      ],
      "text/plain": [
       "       index   airline   flight source_city departure_time stops  \\\n",
       "0          0  SpiceJet  SG-8709       Delhi        Evening  zero   \n",
       "1          1  SpiceJet  SG-8157       Delhi  Early_Morning  zero   \n",
       "2          2   AirAsia   I5-764       Delhi  Early_Morning  zero   \n",
       "3          3   Vistara   UK-995       Delhi        Morning  zero   \n",
       "4          4   Vistara   UK-963       Delhi        Morning  zero   \n",
       "...      ...       ...      ...         ...            ...   ...   \n",
       "1589  300148   Vistara   UK-822     Chennai            NaN   one   \n",
       "1590  300149   Vistara   UK-826         NaN      Afternoon   one   \n",
       "1591  300150   Vistara   UK-832     Chennai  Early_Morning   one   \n",
       "1592  300151   Vistara   UK-828     Chennai  Early_Morning   one   \n",
       "1593  300152   Vistara   UK-822     Chennai        Morning   one   \n",
       "\n",
       "       arrival_time destination_city     class  duration  days_left    price  \n",
       "0             Night           Mumbai   Economy      2.17        1.0   5953.0  \n",
       "1           Morning           Mumbai   Economy      2.33        1.0   5953.0  \n",
       "2     Early_Morning           Mumbai   Economy      2.17        1.0   5956.0  \n",
       "3         Afternoon           Mumbai   Economy      2.25        1.0   5955.0  \n",
       "4           Morning           Mumbai   Economy      2.33        1.0   5955.0  \n",
       "...             ...              ...       ...       ...        ...      ...  \n",
       "1589        Evening        Hyderabad  Business       NaN        NaN  69265.0  \n",
       "1590          Night        Hyderabad  Business       NaN        NaN      NaN  \n",
       "1591          Night        Hyderabad  Business       NaN        NaN  79099.0  \n",
       "1592        Evening        Hyderabad  Business       NaN        NaN  81585.0  \n",
       "1593        Evening        Hyderabad  Business       NaN       49.0      NaN  \n",
       "\n",
       "[1594 rows x 12 columns]"
      ]
     },
     "execution_count": 35,
     "metadata": {},
     "output_type": "execute_result"
    }
   ],
   "source": [
    "dataset = pd.read_csv(\"airlines_flights_data.csv\")\n",
    "dataset"
   ]
  },
  {
   "cell_type": "code",
   "execution_count": 36,
   "id": "0f1fc933",
   "metadata": {},
   "outputs": [
    {
     "data": {
      "text/plain": [
       "index                0\n",
       "airline             38\n",
       "flight               0\n",
       "source_city         29\n",
       "departure_time      39\n",
       "stops               29\n",
       "arrival_time        75\n",
       "destination_city    42\n",
       "class               10\n",
       "duration            15\n",
       "days_left           11\n",
       "price               18\n",
       "dtype: int64"
      ]
     },
     "execution_count": 36,
     "metadata": {},
     "output_type": "execute_result"
    }
   ],
   "source": [
    "dataset.isnull().sum()"
   ]
  },
  {
   "cell_type": "code",
   "execution_count": 37,
   "id": "9fe482f2",
   "metadata": {},
   "outputs": [
    {
     "name": "stdout",
     "output_type": "stream",
     "text": [
      "<class 'pandas.core.frame.DataFrame'>\n",
      "RangeIndex: 1594 entries, 0 to 1593\n",
      "Data columns (total 12 columns):\n",
      " #   Column            Non-Null Count  Dtype  \n",
      "---  ------            --------------  -----  \n",
      " 0   index             1594 non-null   int64  \n",
      " 1   airline           1556 non-null   object \n",
      " 2   flight            1594 non-null   object \n",
      " 3   source_city       1565 non-null   object \n",
      " 4   departure_time    1555 non-null   object \n",
      " 5   stops             1565 non-null   object \n",
      " 6   arrival_time      1519 non-null   object \n",
      " 7   destination_city  1552 non-null   object \n",
      " 8   class             1584 non-null   object \n",
      " 9   duration          1579 non-null   float64\n",
      " 10  days_left         1583 non-null   float64\n",
      " 11  price             1576 non-null   float64\n",
      "dtypes: float64(3), int64(1), object(8)\n",
      "memory usage: 149.6+ KB\n"
     ]
    }
   ],
   "source": [
    "dataset.info()"
   ]
  },
  {
   "cell_type": "code",
   "execution_count": 38,
   "id": "a15fb4a7",
   "metadata": {},
   "outputs": [
    {
     "data": {
      "text/plain": [
       "Index(['duration', 'days_left', 'price'], dtype='object')"
      ]
     },
     "execution_count": 38,
     "metadata": {},
     "output_type": "execute_result"
    }
   ],
   "source": [
    "dataset.select_dtypes(include=\"float64\").columns"
   ]
  },
  {
   "cell_type": "code",
   "execution_count": 39,
   "id": "2a547402",
   "metadata": {},
   "outputs": [
    {
     "name": "stdout",
     "output_type": "stream",
     "text": [
      "Requirement already satisfied: scikit-learn in /home/codespace/.local/lib/python3.12/site-packages (1.7.0)\n",
      "Requirement already satisfied: numpy>=1.22.0 in /home/codespace/.local/lib/python3.12/site-packages (from scikit-learn) (2.3.1)\n",
      "Requirement already satisfied: scipy>=1.8.0 in /home/codespace/.local/lib/python3.12/site-packages (from scikit-learn) (1.16.0)\n",
      "Requirement already satisfied: joblib>=1.2.0 in /home/codespace/.local/lib/python3.12/site-packages (from scikit-learn) (1.5.1)\n",
      "Requirement already satisfied: threadpoolctl>=3.1.0 in /home/codespace/.local/lib/python3.12/site-packages (from scikit-learn) (3.6.0)\n",
      "\n",
      "\u001b[1m[\u001b[0m\u001b[34;49mnotice\u001b[0m\u001b[1;39;49m]\u001b[0m\u001b[39;49m A new release of pip is available: \u001b[0m\u001b[31;49m25.1.1\u001b[0m\u001b[39;49m -> \u001b[0m\u001b[32;49m25.2\u001b[0m\n",
      "\u001b[1m[\u001b[0m\u001b[34;49mnotice\u001b[0m\u001b[1;39;49m]\u001b[0m\u001b[39;49m To update, run: \u001b[0m\u001b[32;49mpython -m pip install --upgrade pip\u001b[0m\n",
      "Note: you may need to restart the kernel to use updated packages.\n"
     ]
    }
   ],
   "source": [
    "%pip install scikit-learn"
   ]
  },
  {
   "cell_type": "code",
   "execution_count": 40,
   "id": "06626263",
   "metadata": {},
   "outputs": [],
   "source": [
    "from sklearn.impute import SimpleImputer"
   ]
  },
  {
   "cell_type": "markdown",
   "id": "2f2380cf",
   "metadata": {},
   "source": [
    "we can change the strategy to mean, median, mode"
   ]
  },
  {
   "cell_type": "code",
   "execution_count": 41,
   "id": "415a33ea",
   "metadata": {},
   "outputs": [
    {
     "data": {
      "text/plain": [
       "array([[2.17000000e+00, 1.00000000e+00, 5.95300000e+03],\n",
       "       [2.33000000e+00, 1.00000000e+00, 5.95300000e+03],\n",
       "       [2.17000000e+00, 1.00000000e+00, 5.95600000e+03],\n",
       "       ...,\n",
       "       [1.09684991e+01, 1.59576753e+01, 7.90990000e+04],\n",
       "       [1.09684991e+01, 1.59576753e+01, 8.15850000e+04],\n",
       "       [1.09684991e+01, 4.90000000e+01, 1.52303452e+04]], shape=(1594, 3))"
      ]
     },
     "execution_count": 41,
     "metadata": {},
     "output_type": "execute_result"
    }
   ],
   "source": [
    "si = SimpleImputer(strategy=\"mean\")\n",
    "ar = si.fit_transform(dataset[['duration', 'days_left', 'price']])\n",
    "ar"
   ]
  },
  {
   "cell_type": "code",
   "execution_count": 42,
   "id": "24bf5791",
   "metadata": {},
   "outputs": [],
   "source": [
    "new_dataset=pd.DataFrame(ar,columns=dataset.select_dtypes(include=\"float64\").columns)"
   ]
  },
  {
   "cell_type": "code",
   "execution_count": 43,
   "id": "34089ea0",
   "metadata": {},
   "outputs": [
    {
     "data": {
      "text/html": [
       "<div>\n",
       "<style scoped>\n",
       "    .dataframe tbody tr th:only-of-type {\n",
       "        vertical-align: middle;\n",
       "    }\n",
       "\n",
       "    .dataframe tbody tr th {\n",
       "        vertical-align: top;\n",
       "    }\n",
       "\n",
       "    .dataframe thead th {\n",
       "        text-align: right;\n",
       "    }\n",
       "</style>\n",
       "<table border=\"1\" class=\"dataframe\">\n",
       "  <thead>\n",
       "    <tr style=\"text-align: right;\">\n",
       "      <th></th>\n",
       "      <th>duration</th>\n",
       "      <th>days_left</th>\n",
       "      <th>price</th>\n",
       "    </tr>\n",
       "  </thead>\n",
       "  <tbody>\n",
       "    <tr>\n",
       "      <th>0</th>\n",
       "      <td>2.170000</td>\n",
       "      <td>1.000000</td>\n",
       "      <td>5953.000000</td>\n",
       "    </tr>\n",
       "    <tr>\n",
       "      <th>1</th>\n",
       "      <td>2.330000</td>\n",
       "      <td>1.000000</td>\n",
       "      <td>5953.000000</td>\n",
       "    </tr>\n",
       "    <tr>\n",
       "      <th>2</th>\n",
       "      <td>2.170000</td>\n",
       "      <td>1.000000</td>\n",
       "      <td>5956.000000</td>\n",
       "    </tr>\n",
       "    <tr>\n",
       "      <th>3</th>\n",
       "      <td>2.250000</td>\n",
       "      <td>1.000000</td>\n",
       "      <td>5955.000000</td>\n",
       "    </tr>\n",
       "    <tr>\n",
       "      <th>4</th>\n",
       "      <td>2.330000</td>\n",
       "      <td>1.000000</td>\n",
       "      <td>5955.000000</td>\n",
       "    </tr>\n",
       "    <tr>\n",
       "      <th>...</th>\n",
       "      <td>...</td>\n",
       "      <td>...</td>\n",
       "      <td>...</td>\n",
       "    </tr>\n",
       "    <tr>\n",
       "      <th>1589</th>\n",
       "      <td>10.968499</td>\n",
       "      <td>15.957675</td>\n",
       "      <td>69265.000000</td>\n",
       "    </tr>\n",
       "    <tr>\n",
       "      <th>1590</th>\n",
       "      <td>10.968499</td>\n",
       "      <td>15.957675</td>\n",
       "      <td>15230.345178</td>\n",
       "    </tr>\n",
       "    <tr>\n",
       "      <th>1591</th>\n",
       "      <td>10.968499</td>\n",
       "      <td>15.957675</td>\n",
       "      <td>79099.000000</td>\n",
       "    </tr>\n",
       "    <tr>\n",
       "      <th>1592</th>\n",
       "      <td>10.968499</td>\n",
       "      <td>15.957675</td>\n",
       "      <td>81585.000000</td>\n",
       "    </tr>\n",
       "    <tr>\n",
       "      <th>1593</th>\n",
       "      <td>10.968499</td>\n",
       "      <td>49.000000</td>\n",
       "      <td>15230.345178</td>\n",
       "    </tr>\n",
       "  </tbody>\n",
       "</table>\n",
       "<p>1594 rows × 3 columns</p>\n",
       "</div>"
      ],
      "text/plain": [
       "       duration  days_left         price\n",
       "0      2.170000   1.000000   5953.000000\n",
       "1      2.330000   1.000000   5953.000000\n",
       "2      2.170000   1.000000   5956.000000\n",
       "3      2.250000   1.000000   5955.000000\n",
       "4      2.330000   1.000000   5955.000000\n",
       "...         ...        ...           ...\n",
       "1589  10.968499  15.957675  69265.000000\n",
       "1590  10.968499  15.957675  15230.345178\n",
       "1591  10.968499  15.957675  79099.000000\n",
       "1592  10.968499  15.957675  81585.000000\n",
       "1593  10.968499  49.000000  15230.345178\n",
       "\n",
       "[1594 rows x 3 columns]"
      ]
     },
     "execution_count": 43,
     "metadata": {},
     "output_type": "execute_result"
    }
   ],
   "source": [
    "new_dataset"
   ]
  },
  {
   "cell_type": "code",
   "execution_count": 44,
   "id": "9b61b57d",
   "metadata": {},
   "outputs": [
    {
     "data": {
      "text/plain": [
       "np.float64(10.968499050031665)"
      ]
     },
     "execution_count": 44,
     "metadata": {},
     "output_type": "execute_result"
    }
   ],
   "source": [
    "dataset[\"duration\"].mean()"
   ]
  }
 ],
 "metadata": {
  "kernelspec": {
   "display_name": "Python 3",
   "language": "python",
   "name": "python3"
  },
  "language_info": {
   "codemirror_mode": {
    "name": "ipython",
    "version": 3
   },
   "file_extension": ".py",
   "mimetype": "text/x-python",
   "name": "python",
   "nbconvert_exporter": "python",
   "pygments_lexer": "ipython3",
   "version": "3.12.1"
  }
 },
 "nbformat": 4,
 "nbformat_minor": 5
}
