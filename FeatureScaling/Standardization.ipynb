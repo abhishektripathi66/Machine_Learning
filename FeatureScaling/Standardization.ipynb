{
 "cells": [
  {
   "cell_type": "markdown",
   "id": "fd73aa43",
   "metadata": {},
   "source": [
    "standardization: it is a very effective technique which rescales a feature values so that it has distribution with 0 mean value and variance equals to 1.\n",
    "\n",
    "xnew = (xi-xmean)/sd\n",
    "xnew - new data\n",
    "xi - old data\n",
    "xmean - mean data\n",
    "sd - standard deviation\n",
    "\n",
    "The xnew mean would be 0 and variance will be 1\n",
    "\n"
   ]
  }
 ],
 "metadata": {
  "language_info": {
   "name": "python"
  }
 },
 "nbformat": 4,
 "nbformat_minor": 5
}
