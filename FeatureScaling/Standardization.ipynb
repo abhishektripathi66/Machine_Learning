{
 "cells": [
  {
   "cell_type": "markdown",
   "id": "fd73aa43",
   "metadata": {},
   "source": [
    "standardization: it is a very effective technique which rescales a feature values so that it has distribution with 0 mean value and variance equals to 1.\n",
    "\n",
    "xnew = (xi-xmean)/sd\n",
    "xnew - new data\n",
    "xi - old data\n",
    "xmean - mean data\n",
    "sd - standard deviation\n",
    "\n",
    "The xnew mean would be 0 and variance will be 1\n",
    "\n"
   ]
  },
  {
   "cell_type": "code",
   "execution_count": null,
   "id": "4581be6e",
   "metadata": {},
   "outputs": [],
   "source": [
    "import pandas as pd\n",
    "import seaborn as sns\n",
    "import matplotlib.pyplot as plt"
   ]
  },
  {
   "cell_type": "code",
   "execution_count": null,
   "id": "2bc1bbcc",
   "metadata": {},
   "outputs": [],
   "source": [
    "dataset = pd.read_csv(\"../Data/loan_data.csv\")\n",
    "dataset.head(3)"
   ]
  },
  {
   "cell_type": "code",
   "execution_count": null,
   "id": "71bf2e07",
   "metadata": {},
   "outputs": [],
   "source": [
    "dataset.isnull().sum()"
   ]
  },
  {
   "cell_type": "markdown",
   "id": "fdbbfd8a",
   "metadata": {},
   "source": [
    "before scaling we need to check nature of data, i.e, whether outliers are present are not"
   ]
  },
  {
   "cell_type": "code",
   "execution_count": null,
   "id": "e82a1c04",
   "metadata": {},
   "outputs": [],
   "source": [
    "sns.boxplot(x=\"ApplicantIncome\",data=dataset)"
   ]
  },
  {
   "cell_type": "code",
   "execution_count": null,
   "id": "cedc35c0",
   "metadata": {},
   "outputs": [],
   "source": [
    "dataset.describe()"
   ]
  },
  {
   "cell_type": "markdown",
   "id": "3610c44b",
   "metadata": {},
   "source": [
    "we would be data scaling using the sklearn"
   ]
  },
  {
   "cell_type": "code",
   "execution_count": null,
   "id": "51a0ef06",
   "metadata": {},
   "outputs": [],
   "source": [
    "from sklearn.preprocessing import StandardScaler"
   ]
  },
  {
   "cell_type": "code",
   "execution_count": null,
   "id": "3810cc08",
   "metadata": {},
   "outputs": [],
   "source": [
    "ss = StandardScaler()\n",
    "ss.fit(dataset[[\"ApplicantIncome\"]])"
   ]
  },
  {
   "cell_type": "code",
   "execution_count": null,
   "id": "827e78cc",
   "metadata": {},
   "outputs": [],
   "source": [
    "dataset[\"ApplicantIncome_ss\"]=pd.DataFrame(ss.transform(dataset[[\"ApplicantIncome\"]]),columns=[\"x\"])"
   ]
  },
  {
   "cell_type": "code",
   "execution_count": null,
   "id": "da867689",
   "metadata": {},
   "outputs": [],
   "source": [
    "dataset.head(3)"
   ]
  },
  {
   "cell_type": "code",
   "execution_count": null,
   "id": "d2f191a7",
   "metadata": {},
   "outputs": [],
   "source": [
    "dataset.describe()"
   ]
  },
  {
   "cell_type": "markdown",
   "id": "62481de8",
   "metadata": {},
   "source": [
    "subplot is used to show multiple graphs together\n",
    "here 1st input says number of rows that is 1 here\n",
    "2nd input is number of columns that is 2 here\n",
    "3rd input is postition that is 1"
   ]
  },
  {
   "cell_type": "code",
   "execution_count": null,
   "id": "2fb1f77c",
   "metadata": {},
   "outputs": [],
   "source": [
    "plt.figure(figsize=(10,10))\n",
    "plt.subplot(1,2,1)\n",
    "plt.title(\"Before\")\n",
    "sns.distplot(dataset[\"ApplicantIncome\"])\n",
    "plt.subplot(1,2,2)\n",
    "plt.title(\"After\")\n",
    "sns.distplot(dataset[\"ApplicantIncome_ss\"])\n",
    "plt.plot()"
   ]
  },
  {
   "cell_type": "markdown",
   "id": "47894ad2",
   "metadata": {},
   "source": [
    "we see that after scaling the data magnitude is reduced but the nature remains as is"
   ]
  }
 ],
 "metadata": {
  "kernelspec": {
   "display_name": "Python 3",
   "language": "python",
   "name": "python3"
  },
  "language_info": {
   "codemirror_mode": {
    "name": "ipython",
    "version": 3
   },
   "file_extension": ".py",
   "mimetype": "text/x-python",
   "name": "python",
   "nbconvert_exporter": "python",
   "pygments_lexer": "ipython3",
   "version": "3.12.1"
  }
 },
 "nbformat": 4,
 "nbformat_minor": 5
}
