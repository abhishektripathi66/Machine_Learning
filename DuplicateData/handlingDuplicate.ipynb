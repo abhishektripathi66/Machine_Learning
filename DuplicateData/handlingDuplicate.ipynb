{
 "cells": [
  {
   "cell_type": "markdown",
   "id": "c4c3b274",
   "metadata": {},
   "source": [
    "we would be taking our own small dataset to see how the duplicate data looks like"
   ]
  }
 ],
 "metadata": {
  "language_info": {
   "name": "python"
  }
 },
 "nbformat": 4,
 "nbformat_minor": 5
}
