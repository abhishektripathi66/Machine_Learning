{
 "cells": [
  {
   "cell_type": "markdown",
   "id": "44fa1c7b",
   "metadata": {},
   "source": [
    "Label Encoding:\n",
    "\n",
    "it is performed on the nominal data.\n",
    "Nominal data is such data where there is no connection like o=dog, cow, buffalo, parrot. there is no sequence\n",
    "\n",
    "ordinal data is where we have a sequence like we have s, xs, xl m"
   ]
  }
 ],
 "metadata": {
  "language_info": {
   "name": "python"
  }
 },
 "nbformat": 4,
 "nbformat_minor": 5
}
